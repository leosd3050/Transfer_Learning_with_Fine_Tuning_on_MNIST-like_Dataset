{
  "cells": [
    {
      "attachments": {},
      "cell_type": "markdown",
      "metadata": {
        "id": "a10Y2_ryDly8"
      },
      "source": [
        "### **Part 0.0**\n",
        "### **Understanding Python classes and Neural Networks in PyTorch**"
      ]
    },
    {
      "cell_type": "code",
      "execution_count": null,
      "metadata": {
        "id": "GUqUFV3g-nz-"
      },
      "outputs": [],
      "source": [
        "# Importing the required libraries\n",
        "\n",
        "import torch\n",
        "import torchvision\n",
        "import torch.nn as nn\n",
        "import torch.nn.functional as F\n",
        "import torch.optim as optim\n",
        "import torchvision.transforms as transforms\n",
        "from torch.utils.data import Dataset, DataLoader\n",
        "import numpy as np\n",
        "import math"
      ]
    },
    {
      "cell_type": "markdown",
      "metadata": {
        "id": "qhmhdquEXuZD"
      },
      "source": [
        "**Activity 1 (31.01.2023)**\n",
        "\n",
        "Instructed to perform during the lab hours to understand Python classes"
      ]
    },
    {
      "cell_type": "code",
      "execution_count": null,
      "metadata": {
        "colab": {
          "base_uri": "https://localhost:8080/"
        },
        "id": "zBKyyHwMAoH4",
        "outputId": "203a6c90-4840-45f5-9aa3-4c8f0c1eee63"
      },
      "outputs": [
        {
          "name": "stdout",
          "output_type": "stream",
          "text": [
            "('G1', 49)\n",
            "3\n",
            "('G1', 49)\n"
          ]
        }
      ],
      "source": [
        "class Train :\n",
        "  def __init__(self, wagons, passengers) :\n",
        "    assert len(wagons) == len(passengers), \"Input lists are not equal!\"\n",
        "    self.wagon_list = wagons\n",
        "    self.pass_list = passengers\n",
        "\n",
        "  def __len__(self) :\n",
        "    return len(self.wagon_list)\n",
        "               \n",
        "  def __getitem__(self, index) :\n",
        "    return self.wagon_list[index],self.pass_list[index]\n",
        "\n",
        "train = Train(['S1','S2','G1'],[45,44,49])\n",
        "print(train[2])\n",
        "print(len(train))\n",
        "print(train.__getitem__(2))\n",
        "#print(train)"
      ]
    },
    {
      "cell_type": "markdown",
      "metadata": {
        "id": "TVUOUuu2XwgJ"
      },
      "source": [
        "**Activity 2 (31.01.2023)**\n",
        "\n",
        "Definition of a sample Neural Network in PyTorch"
      ]
    },
    {
      "cell_type": "code",
      "execution_count": null,
      "metadata": {
        "colab": {
          "base_uri": "https://localhost:8080/"
        },
        "id": "op0f-DWoMoIS",
        "outputId": "b9fd3024-dd9d-45af-c405-ad4ea2ad4287"
      },
      "outputs": [
        {
          "name": "stdout",
          "output_type": "stream",
          "text": [
            "ResNet9(\n",
            "  (conv1): Conv2d(3, 64, kernel_size=(3, 3), stride=(1, 1), padding=(1, 1))\n",
            "  (bn1): BatchNorm2d(64, eps=1e-05, momentum=0.1, affine=False, track_running_stats=True)\n",
            "  (conv2): Conv2d(64, 128, kernel_size=(3, 3), stride=(1, 1), padding=(1, 1))\n",
            "  (bn2): BatchNorm2d(128, eps=1e-05, momentum=0.1, affine=False, track_running_stats=True)\n",
            "  (conv3): Conv2d(128, 128, kernel_size=(3, 3), stride=(1, 1), padding=(1, 1))\n",
            "  (conv4): Conv2d(128, 256, kernel_size=(3, 3), stride=(1, 1), padding=(1, 1))\n",
            "  (bn3): BatchNorm2d(256, eps=1e-05, momentum=0.1, affine=False, track_running_stats=True)\n",
            "  (conv5): Conv2d(256, 512, kernel_size=(3, 3), stride=(1, 1), padding=(1, 1))\n",
            "  (bn4): BatchNorm2d(512, eps=1e-05, momentum=0.1, affine=False, track_running_stats=True)\n",
            "  (conv6): Conv2d(512, 512, kernel_size=(3, 3), stride=(1, 1), padding=(1, 1))\n",
            "  (activation): ReLU()\n",
            "  (pool): AdaptiveAvgPool2d(output_size=(1, 1))\n",
            "  (fc): Linear(in_features=512, out_features=10, bias=True)\n",
            "  (conv7): Conv2d(128, 512, kernel_size=(1, 1), stride=(1, 1))\n",
            ")\n"
          ]
        }
      ],
      "source": [
        "class ResNet9(nn.Module):\n",
        "\n",
        "    def __init__(self):\n",
        "        super(ResNet9, self).__init__()\n",
        "        self.conv1 = nn.Conv2d(3, 64, 3, padding=1, stride=1)\n",
        "        self.bn1 = nn.BatchNorm2d(64,affine=False)\n",
        "        self.conv2 = nn.Conv2d(64, 128, 3,padding=1, stride=1)\n",
        "        self.bn2 = nn.BatchNorm2d(128,affine=False)\n",
        "        self.conv3 = nn.Conv2d(128, 128, 3,padding=1, stride=1)\n",
        "        self.conv4 = nn.Conv2d(128, 256, 3,padding=1, stride=1)\n",
        "        self.bn3 = nn.BatchNorm2d(256,affine=False)\n",
        "        self.conv5 = nn.Conv2d(256, 512, 3,padding=1, stride=1)\n",
        "        self.bn4 = nn.BatchNorm2d(512,affine=False)\n",
        "        self.conv6 = nn.Conv2d(512, 512, 3,padding=1, stride=1)\n",
        "        self.activation = nn.ReLU(inplace=False)\n",
        "        self.pool = nn.AdaptiveAvgPool2d((1,1))\n",
        "        self.fc = nn.Linear(512, 10) \n",
        "        self.conv7 = nn.Conv2d(128,512,1,padding=0,stride=1) \n",
        "\n",
        "    def forward(self, x):\n",
        "        x = self.activation(self.bn1(self.conv1(x)))\n",
        "        x1 = self.activation(self.bn2(self.conv2(x)))\n",
        "\n",
        "        x = self.activation(self.bn2(self.conv3(x1)))\n",
        "        x2 = x1 + self.activation(self.bn2(self.conv3(x)))\n",
        "\n",
        "        x = self.activation(self.bn3(self.conv4(x2)))\n",
        "        x2_ = self.conv7(x2)\n",
        "        x3 = x2_ + self.activation(self.bn4(self.conv5(x)))\n",
        "\n",
        "        x = self.activation(self.bn4(self.conv6(x3)))\n",
        "        x4 = x3 + self.activation(self.bn4(self.conv6(x)))\n",
        "\n",
        "        x = self.pool(x4)   \n",
        "        x = torch.flatten(x, 1) \n",
        "\n",
        "\n",
        "        x = self.fc(x)\n",
        "        x = F.softmax(x)\n",
        "        return x\n",
        "\n",
        "\n",
        "net = ResNet9()\n",
        "print(net)"
      ]
    },
    {
      "cell_type": "markdown",
      "metadata": {
        "id": "AiOt_0u_ECv8"
      },
      "source": [
        "Experimenting with sample values"
      ]
    },
    {
      "cell_type": "code",
      "execution_count": null,
      "metadata": {
        "colab": {
          "base_uri": "https://localhost:8080/"
        },
        "id": "4VYQAsVRtHSO",
        "outputId": "fb80474b-2751-47d3-8f43-20725492f572"
      },
      "outputs": [
        {
          "name": "stdout",
          "output_type": "stream",
          "text": [
            "torch.Size([64, 3, 3, 3]) False\n",
            "torch.Size([64]) False\n",
            "torch.Size([128, 64, 3, 3]) False\n",
            "torch.Size([128]) False\n",
            "torch.Size([128, 128, 3, 3]) False\n",
            "torch.Size([128]) False\n",
            "torch.Size([256, 128, 3, 3]) False\n",
            "torch.Size([256]) False\n",
            "torch.Size([512, 256, 3, 3]) False\n",
            "torch.Size([512]) False\n",
            "torch.Size([512, 512, 3, 3]) False\n",
            "torch.Size([512]) False\n",
            "torch.Size([10, 512]) True\n",
            "torch.Size([10]) True\n",
            "torch.Size([512, 128, 1, 1]) False\n",
            "torch.Size([512]) False\n"
          ]
        }
      ],
      "source": [
        "for name,param in net.named_parameters():\n",
        "  if 'fc' not in name :\n",
        "    param.requires_grad = False\n",
        "\n",
        "for param in net.parameters():\n",
        "    print(param.shape, param.requires_grad)\n"
      ]
    },
    {
      "cell_type": "code",
      "execution_count": null,
      "metadata": {
        "colab": {
          "base_uri": "https://localhost:8080/"
        },
        "id": "c09O-OwFggsF",
        "outputId": "c3329b94-f222-4c2e-e17a-2420f6456bb0"
      },
      "outputs": [
        {
          "name": "stdout",
          "output_type": "stream",
          "text": [
            "torch.Size([2, 512, 1, 1])\n"
          ]
        },
        {
          "name": "stderr",
          "output_type": "stream",
          "text": [
            "<ipython-input-9-542f9994f25b>:42: UserWarning: Implicit dimension choice for softmax has been deprecated. Change the call to include dim=X as an argument.\n",
            "  x = F.softmax(x)\n"
          ]
        },
        {
          "data": {
            "text/plain": [
              "tensor([[0.1125, 0.1249, 0.1706, 0.0329, 0.1468, 0.1390, 0.0400, 0.0542, 0.1215,\n",
              "         0.0576],\n",
              "        [0.1116, 0.1229, 0.1720, 0.0335, 0.1442, 0.1449, 0.0386, 0.0556, 0.1189,\n",
              "         0.0578]], grad_fn=<SoftmaxBackward0>)"
            ]
          },
          "execution_count": 13,
          "metadata": {},
          "output_type": "execute_result"
        }
      ],
      "source": [
        "test = torch.rand(2, 3, 32, 32)\n",
        "net(test)"
      ]
    }
  ],
  "metadata": {
    "colab": {
      "provenance": []
    },
    "kernelspec": {
      "display_name": "Python 3",
      "name": "python3"
    },
    "language_info": {
      "name": "python"
    }
  },
  "nbformat": 4,
  "nbformat_minor": 0
}
