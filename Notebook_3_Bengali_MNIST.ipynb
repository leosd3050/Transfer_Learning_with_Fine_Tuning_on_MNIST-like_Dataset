{
  "cells": [
    {
      "attachments": {},
      "cell_type": "markdown",
      "metadata": {
        "id": "2EhEkTGoZHsb"
      },
      "source": [
        "### **Part 3**\n",
        "\n",
        "Training the entire neural network with the same CNN architecture as in Part (1) by using our own augmented dataset\n"
      ]
    },
    {
      "attachments": {},
      "cell_type": "markdown",
      "metadata": {
        "id": "rIvb142fH_mb"
      },
      "source": [
        "#### **[Task 0.0] : GPU Set up**\n",
        "\n",
        "Add GPU accelerator by clicking\n",
        "Runtime>Change runtime type > Hardware accelerator\n",
        "\n",
        "Change from None to GPU\n",
        "\n",
        "\n",
        "Following code block should pass without triggering asserts if you did it rightly.\n",
        "\n",
        "**Caution: Do not proceed further until this code block passes**\n",
        "\n",
        "***You are requested to ignore any warnings.***\n",
        "\n",
        "\n"
      ]
    },
    {
      "cell_type": "code",
      "execution_count": null,
      "metadata": {
        "colab": {
          "base_uri": "https://localhost:8080/"
        },
        "id": "Q7Ypi43nCDzt",
        "outputId": "5ce10518-b722-48d6-8c85-cec7fbcd7d17"
      },
      "outputs": [
        {
          "name": "stdout",
          "output_type": "stream",
          "text": [
            "We are training on cuda:0 for this experiment\n"
          ]
        }
      ],
      "source": [
        "import torch\n",
        "device = torch.device('cuda:0' if torch.cuda.is_available() else 'cpu')\n",
        "\n",
        "# Assuming that we are on a CUDA machine, this should print a CUDA device:\n",
        "\n",
        "print(f\"We are training on {device} for this experiment\")\n",
        "\n",
        "assert 'cuda' in repr(device), \"GPU is not selected in hardware accelerator dropdown\""
      ]
    },
    {
      "cell_type": "code",
      "execution_count": null,
      "metadata": {
        "colab": {
          "base_uri": "https://localhost:8080/"
        },
        "id": "084HuZp7C_NS",
        "outputId": "2dc705b0-1b5e-482e-920c-f27dbf8cf711"
      },
      "outputs": [
        {
          "name": "stdout",
          "output_type": "stream",
          "text": [
            "Mounted at /content/drive\n"
          ]
        }
      ],
      "source": [
        "from google.colab import drive\n",
        "drive.mount('/content/drive')"
      ]
    },
    {
      "attachments": {},
      "cell_type": "markdown",
      "metadata": {
        "id": "-KGG7Sy8ISxp"
      },
      "source": [
        "#### **[Task 0.1] : Google drive setup**\n",
        "Create a folder '*checkpoints3*' in your google drive and make `your_google_drive_path` variable to point the '*checkpoints3*' folder.\n",
        "\n",
        "Following code block should pass without triggering asserts if you did it rightly.\n",
        "\n",
        "**Caution: Do not proceed further until this code block passes**"
      ]
    },
    {
      "cell_type": "code",
      "execution_count": null,
      "metadata": {
        "id": "TYyP3j1XDJHD"
      },
      "outputs": [],
      "source": [
        "your_google_drive_path = \"/content/drive/MyDrive/checkpoints3/\"\n",
        "import os\n",
        "assert os.path.isdir(your_google_drive_path), f\"{your_google_drive_path} is not a valid location\""
      ]
    },
    {
      "cell_type": "markdown",
      "metadata": {
        "id": "bS5edDX3KfhP"
      },
      "source": [
        "\n",
        "# Training a Classifier\n",
        "\n",
        "This is it. You have seen how to define neural networks, compute loss and make\n",
        "updates to the weights of the network.\n",
        "\n",
        "Now you might be thinking,\n",
        "\n",
        "## What about data?\n",
        "\n",
        "Generally, when you have to deal with image, text, audio or video data,\n",
        "you can use standard python packages that load data into a numpy array.\n",
        "Then you can convert this array into a ``torch.*Tensor``.\n",
        "\n",
        "-  For images, packages such as Pillow, OpenCV are useful\n",
        "-  For audio, packages such as scipy and librosa\n",
        "-  For text, either raw Python or Cython based loading, or NLTK and\n",
        "   SpaCy are useful\n",
        "\n",
        "Specifically for vision, we have created a package called\n",
        "``torchvision``, that has data loaders for common datasets such as\n",
        "ImageNet, CIFAR10, MNIST, etc. and data transformers for images, viz.,\n",
        "``torchvision.datasets`` and ``torch.utils.data.DataLoader``.\n",
        "\n",
        "This provides a huge convenience and avoids writing boilerplate code.\n",
        "\n",
        "Our interest is in training our own augmented **Bengali MNIST** dataset."
      ]
    },
    {
      "cell_type": "code",
      "execution_count": null,
      "metadata": {
        "id": "AZClYNL8Ddgy"
      },
      "outputs": [],
      "source": [
        "# importing the required libraries\n",
        "%matplotlib inline\n",
        "import torch\n",
        "import torchvision\n",
        "import torchvision.transforms as transforms"
      ]
    },
    {
      "cell_type": "markdown",
      "metadata": {
        "id": "RFwcWnSiLPwu"
      },
      "source": [
        "Creation of custom **Bengali MNIST** dataset in PyTorch to access all the functionalities of Dataloaders. \\\n",
        "We also normalized the pixel values such they lie in the range [0, 1]. \\\n",
        "Create a folder called *data* in your Google Drive and upload the *numbers.csv* file present in the *Dataset* folder attached alongwith the submission file, in the created folder. \\\n",
        "**Only after doing the above, run the cell below.**"
      ]
    },
    {
      "cell_type": "code",
      "execution_count": null,
      "metadata": {
        "id": "GK3Fj9bFm2hv"
      },
      "outputs": [],
      "source": [
        "from torch.utils.data import Dataset, DataLoader\n",
        "import numpy as np\n",
        "\n",
        "class Bengali_MNIST(Dataset) :\n",
        "  def __init__(self,transform=None) :\n",
        "    xy = np.loadtxt('/content/drive/MyDrive/data/numbers.csv',delimiter=',',dtype=np.float32)\n",
        "    self.x = torch.from_numpy(xy[:,1:].reshape((-1,1,28,28)))   # inputs\n",
        "    self.x /= 255\n",
        "    self.y = torch.from_numpy(xy[:,0])                          # labels\n",
        "    self.n_samples = xy.shape[0]\n",
        "    self.transform = transform\n",
        "\n",
        "  def __getitem__(self,index) :                # indexing the dataset\n",
        "    return self.x[index],self.y[index]\n",
        "\n",
        "  def __len__(self) :                          # to obtain the length of the dataset \n",
        "    return self.n_samples"
      ]
    },
    {
      "cell_type": "markdown",
      "metadata": {
        "id": "ZOARcEqVLtHD"
      },
      "source": [
        "Obtaining training and test sets"
      ]
    },
    {
      "cell_type": "code",
      "execution_count": null,
      "metadata": {
        "id": "-aS3shaMn0tz"
      },
      "outputs": [],
      "source": [
        "fraction = 0.9                                 # train-test split\n",
        "batch_size = 4                                 # batch-size \n",
        "\n",
        "dataset = Bengali_MNIST(transform=None)        # dataset object \n",
        "\n",
        "# Creation of training and test sets\n",
        "train_size = int(fraction * len(dataset))\n",
        "test_size = len(dataset) - train_size\n",
        "trainset, testset = torch.utils.data.random_split(dataset, [train_size, test_size])\n",
        "\n",
        "\n",
        "\n",
        "#Create data loader from train dataset object\n",
        "trainloader = DataLoader(trainset, batch_size=batch_size,shuffle=True, num_workers=2)\n",
        "\n",
        "#Create data loader from test dataset object\n",
        "testloader = DataLoader(testset, batch_size=batch_size,shuffle=False, num_workers=2)\n",
        "\n",
        "classes = ('zero', 'one', 'two', 'three',\n",
        "           'four', 'five', 'six', 'seven', 'eight', 'nine')"
      ]
    },
    {
      "cell_type": "markdown",
      "metadata": {
        "id": "GAil_H6eM1o6"
      },
      "source": [
        "Let us show some of the training images, for fun.\n",
        "\n"
      ]
    },
    {
      "cell_type": "code",
      "execution_count": null,
      "metadata": {
        "colab": {
          "base_uri": "https://localhost:8080/",
          "height": 155
        },
        "id": "BE5kIoaCoYu1",
        "outputId": "794e1fc1-7c7a-45cf-93da-d233bde9c0e9"
      },
      "outputs": [
        {
          "data": {
            "image/png": "[encoded data removed]",
            "text/plain": [
              "<Figure size 432x288 with 1 Axes>"
            ]
          },
          "metadata": {
            "needs_background": "light"
          },
          "output_type": "display_data"
        },
        {
          "name": "stdout",
          "output_type": "stream",
          "text": [
            "six   five  eight three\n"
          ]
        }
      ],
      "source": [
        "import matplotlib.pyplot as plt\n",
        "import numpy as np\n",
        "\n",
        "# functions to show an image\n",
        "\n",
        "\n",
        "def imshow(img):\n",
        "    #img = img / 2 + 0.5     # unnormalize\n",
        "    npimg = img.numpy()\n",
        "    plt.imshow(np.transpose(npimg, (1, 2, 0)))\n",
        "    plt.show()\n",
        "\n",
        "\n",
        "# get some random training images\n",
        "## Doubt: Why is this always showing 4 images?\n",
        "dataiter = iter(trainloader)\n",
        "images, labels = next(dataiter)\n",
        "#print(images.shape)\n",
        "#print(labels.shape)\n",
        "\n",
        "# show images\n",
        "imshow(torchvision.utils.make_grid(images))\n",
        "# print labels\n",
        "print(' '.join(f'{classes[int(labels[j].item())]:5s}' for j in range(batch_size)))"
      ]
    },
    {
      "cell_type": "markdown",
      "metadata": {
        "id": "BU6Rj3upNKgY"
      },
      "source": [
        "### 2. [Task 1] Define a Convolutional Neural Network with residual connections\n",
        "Copy the neural network from your lab and output 10 classes in final layer of FC\n",
        "![resnet9.PNG](data:image/png;base64,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)\n",
        "\n"
      ]
    },
    {
      "cell_type": "code",
      "execution_count": null,
      "metadata": {
        "id": "cnKlL73ACi64"
      },
      "outputs": [],
      "source": [
        "import torch.nn as nn\n",
        "import torch.nn.functional as F\n",
        "\n",
        "#Define your own 'resnet9 without residual connections' neural network class with name 'Net' here \n",
        "#Note : \n",
        "######## Thou shall not use the following commented out Net() definition in final evaluation\n",
        "######## This is placed here for you to play with incase your model class definition doesn't work\n",
        "\n",
        "\n",
        "# class Net(nn.Module):\n",
        "#     def __init__(self):\n",
        "#         super().__init__()\n",
        "#         self.conv1 = nn.Conv2d(3, 6, 5)\n",
        "#         self.pool = nn.MaxPool2d(2, 2)\n",
        "#         self.conv2 = nn.Conv2d(6, 16, 5)\n",
        "#         self.fc1 = nn.Linear(16 * 5 * 5, 120)\n",
        "#         self.fc2 = nn.Linear(120, 84)\n",
        "#         self.fc3 = nn.Linear(84, 10)\n",
        "\n",
        "#     def forward(self, x):\n",
        "#         x = self.pool(F.relu(self.conv1(x)))\n",
        "#         x = self.pool(F.relu(self.conv2(x)))\n",
        "#         x = torch.flatten(x, 1) # flatten all dimensions except batch\n",
        "#         x = F.relu(self.fc1(x))\n",
        "#         x = F.relu(self.fc2(x))\n",
        "#         x = self.fc3(x)\n",
        "#         return x\n",
        "\n",
        "class ResNet9(nn.Module):\n",
        "\n",
        "    def __init__(self):\n",
        "        super(ResNet9, self).__init__()\n",
        "        self.conv1 = nn.Conv2d(1, 64, 3, padding=1, stride=1)\n",
        "        self.bn1 = nn.BatchNorm2d(64,affine=True)\n",
        "        self.conv2 = nn.Conv2d(64, 128, 3,padding=1, stride=1)\n",
        "        self.bn2 = nn.BatchNorm2d(128,affine=True)\n",
        "        self.conv3 = nn.Conv2d(128, 128, 3,padding=1, stride=1)\n",
        "        self.conv4 = nn.Conv2d(128, 256, 3,padding=1, stride=1)\n",
        "        self.bn3 = nn.BatchNorm2d(256,affine=True)\n",
        "        self.conv5 = nn.Conv2d(256, 512, 3,padding=1, stride=1)\n",
        "        self.bn4 = nn.BatchNorm2d(512,affine=True)\n",
        "        self.conv6 = nn.Conv2d(512, 512, 3,padding=1, stride=1)\n",
        "        self.activation = nn.ReLU(inplace=False)\n",
        "        self.pool = nn.AdaptiveAvgPool2d((1,1))\n",
        "        self.fc = nn.Linear(512, 10) \n",
        "        self.conv7 = nn.Conv2d(128,512,1,padding=0,stride=1) \n",
        "\n",
        "    def forward(self, x):\n",
        "        x = self.activation(self.bn1(self.conv1(x)))\n",
        "        x1 = self.activation(self.bn2(self.conv2(x)))\n",
        "\n",
        "        x = self.activation(self.bn2(self.conv3(x1)))\n",
        "        x2 = x1 + self.activation(self.bn2(self.conv3(x)))\n",
        "\n",
        "        x = self.activation(self.bn3(self.conv4(x2)))\n",
        "        x2_ = self.bn4(self.conv7(x2))\n",
        "        x3 = x2_ + self.activation(self.bn4(self.conv5(x)))\n",
        "\n",
        "        x = self.activation(self.bn4(self.conv6(x3)))\n",
        "        x4 = x3 + self.activation(self.bn4(self.conv6(x)))\n",
        "\n",
        "        x = self.pool(x4)   \n",
        "        x = torch.flatten(x, 1) \n",
        "\n",
        "\n",
        "        x = self.fc(x)\n",
        "        x = F.softmax(x)\n",
        "        return x\n",
        "\n",
        "\n",
        "net = ResNet9().to(device)\n",
        "#print(net)\n",
        "#net = Net().to(device)"
      ]
    },
    {
      "cell_type": "markdown",
      "metadata": {
        "id": "SabgK8kvNiXu"
      },
      "source": [
        "### 3. Define a Loss function and optimizer\n",
        "Let's use a Classification Cross-Entropy loss and SGD with momentum.\n",
        "\n"
      ]
    },
    {
      "cell_type": "code",
      "execution_count": null,
      "metadata": {
        "id": "AXXZ6wYjCjbS"
      },
      "outputs": [],
      "source": [
        "import torch.optim as optim\n",
        "\n",
        "criterion = nn.CrossEntropyLoss()\n",
        "optimizer = optim.SGD(net.parameters(), lr=0.005, momentum=0.9)"
      ]
    },
    {
      "cell_type": "markdown",
      "metadata": {
        "id": "_tFnKYwYNn0j"
      },
      "source": [
        "### This is validator code"
      ]
    },
    {
      "cell_type": "code",
      "execution_count": null,
      "metadata": {
        "id": "riUZcmeQCoBU"
      },
      "outputs": [],
      "source": [
        "def validator(testloader=None,net=None):\n",
        "    correct = 0\n",
        "    total = 0\n",
        "    # since we're not training, we don't need to calculate the gradients for our outputs\n",
        "    with torch.no_grad():\n",
        "        for data in testloader:\n",
        "            images, labels = data\n",
        "            labels = labels.type(torch.LongTensor)\n",
        "            images = images.to(device)\n",
        "            labels = labels.to(device)\n",
        "\n",
        "            # calculate outputs by running images through the network\n",
        "            outputs = net(images)\n",
        "            # the class with the highest energy is what we choose as prediction\n",
        "            # perform max along dimension 1, since dimension 0 is batch dimension\n",
        "            _, predicted = torch.max(outputs.data, 1)\n",
        "            total += labels.size(0)\n",
        "            correct += (predicted == labels).sum().item()\n",
        "\n",
        "    print(f'Accuracy of the network on the {test_size} test images: {100 * correct // total} %')\n",
        "    return correct/total"
      ]
    },
    {
      "cell_type": "markdown",
      "metadata": {
        "id": "peo_BZw6Ns0d"
      },
      "source": [
        "### 4. Train the network\n",
        "\n",
        "This is when things start to get interesting.\n",
        "We simply have to loop over our data iterator, and feed the inputs to the\n",
        "network and optimize.\n",
        "\n"
      ]
    },
    {
      "cell_type": "code",
      "execution_count": null,
      "metadata": {
        "id": "vprJxw2KCqo_"
      },
      "outputs": [],
      "source": [
        "start_epoch=0\n",
        "end_epoch=20\n",
        "\n",
        "#If you are resuming your model, Uncomment following lines\n",
        "\n",
        "#checkpoint = torch.load(your_google_drive_path+'checkpoint.pth')\n",
        "#start_epoch = checkpoint['epoch']+1\n",
        "#net.load_state_dict(checkpoint['model_state_dict'])\n",
        "#optimizer.load_state_dict(checkpoint['optimizer_state_dict'])"
      ]
    },
    {
      "cell_type": "code",
      "execution_count": null,
      "metadata": {
        "colab": {
          "base_uri": "https://localhost:8080/"
        },
        "id": "gEgmw0TOCw6a",
        "outputId": "0d899f89-203a-4a6c-f1a8-5e4ab7ed8c51"
      },
      "outputs": [
        {
          "name": "stderr",
          "output_type": "stream",
          "text": [
            "<ipython-input-9-85e6c1892eb3>:67: UserWarning: Implicit dimension choice for softmax has been deprecated. Change the call to include dim=X as an argument.\n",
            "  x = F.softmax(x)\n"
          ]
        },
        {
          "name": "stdout",
          "output_type": "stream",
          "text": [
            "[1,  500] loss: 2.316\n",
            "[1, 1000] loss: 2.303\n",
            "[1, 1500] loss: 2.292\n",
            "[1, 2000] loss: 2.261\n",
            "Accuracy of the network on the 1000 test images: 24 %\n",
            "[2,  500] loss: 2.140\n",
            "[2, 1000] loss: 2.075\n",
            "[2, 1500] loss: 2.034\n",
            "[2, 2000] loss: 1.964\n",
            "Accuracy of the network on the 1000 test images: 61 %\n",
            "[3,  500] loss: 1.832\n",
            "[3, 1000] loss: 1.772\n",
            "[3, 1500] loss: 1.742\n",
            "[3, 2000] loss: 1.708\n",
            "Accuracy of the network on the 1000 test images: 80 %\n",
            "[4,  500] loss: 1.679\n",
            "[4, 1000] loss: 1.663\n",
            "[4, 1500] loss: 1.655\n",
            "[4, 2000] loss: 1.631\n",
            "Accuracy of the network on the 1000 test images: 85 %\n",
            "[5,  500] loss: 1.620\n",
            "[5, 1000] loss: 1.619\n",
            "[5, 1500] loss: 1.598\n",
            "[5, 2000] loss: 1.556\n",
            "Accuracy of the network on the 1000 test images: 91 %\n",
            "[6,  500] loss: 1.542\n",
            "[6, 1000] loss: 1.523\n",
            "[6, 1500] loss: 1.518\n",
            "[6, 2000] loss: 1.509\n",
            "Accuracy of the network on the 1000 test images: 96 %\n",
            "[7,  500] loss: 1.499\n",
            "[7, 1000] loss: 1.496\n",
            "[7, 1500] loss: 1.487\n",
            "[7, 2000] loss: 1.489\n",
            "Accuracy of the network on the 1000 test images: 97 %\n",
            "[8,  500] loss: 1.491\n",
            "[8, 1000] loss: 1.491\n",
            "[8, 1500] loss: 1.488\n",
            "[8, 2000] loss: 1.487\n",
            "Accuracy of the network on the 1000 test images: 97 %\n",
            "[9,  500] loss: 1.487\n",
            "[9, 1000] loss: 1.487\n",
            "[9, 1500] loss: 1.481\n",
            "[9, 2000] loss: 1.477\n",
            "Accuracy of the network on the 1000 test images: 98 %\n",
            "[10,  500] loss: 1.480\n",
            "[10, 1000] loss: 1.470\n",
            "[10, 1500] loss: 1.477\n",
            "[10, 2000] loss: 1.481\n",
            "Accuracy of the network on the 1000 test images: 99 %\n",
            "[11,  500] loss: 1.471\n",
            "[11, 1000] loss: 1.475\n",
            "[11, 1500] loss: 1.469\n",
            "[11, 2000] loss: 1.476\n",
            "Accuracy of the network on the 1000 test images: 98 %\n",
            "[12,  500] loss: 1.470\n",
            "[12, 1000] loss: 1.470\n",
            "[12, 1500] loss: 1.470\n",
            "[12, 2000] loss: 1.470\n",
            "Accuracy of the network on the 1000 test images: 99 %\n",
            "[13,  500] loss: 1.473\n",
            "[13, 1000] loss: 1.470\n",
            "[13, 1500] loss: 1.469\n",
            "[13, 2000] loss: 1.468\n",
            "Accuracy of the network on the 1000 test images: 99 %\n",
            "[14,  500] loss: 1.468\n",
            "[14, 1000] loss: 1.466\n",
            "[14, 1500] loss: 1.467\n",
            "[14, 2000] loss: 1.468\n",
            "Accuracy of the network on the 1000 test images: 99 %\n",
            "[15,  500] loss: 1.468\n",
            "[15, 1000] loss: 1.467\n",
            "[15, 1500] loss: 1.470\n",
            "[15, 2000] loss: 1.465\n",
            "Accuracy of the network on the 1000 test images: 99 %\n",
            "[16,  500] loss: 1.469\n",
            "[16, 1000] loss: 1.468\n",
            "[16, 1500] loss: 1.464\n",
            "[16, 2000] loss: 1.466\n",
            "Accuracy of the network on the 1000 test images: 99 %\n",
            "[17,  500] loss: 1.467\n",
            "[17, 1000] loss: 1.465\n",
            "[17, 1500] loss: 1.469\n",
            "[17, 2000] loss: 1.468\n",
            "Accuracy of the network on the 1000 test images: 99 %\n",
            "[18,  500] loss: 1.465\n",
            "[18, 1000] loss: 1.467\n",
            "[18, 1500] loss: 1.469\n",
            "[18, 2000] loss: 1.469\n",
            "Accuracy of the network on the 1000 test images: 99 %\n",
            "[19,  500] loss: 1.465\n",
            "[19, 1000] loss: 1.465\n",
            "[19, 1500] loss: 1.465\n",
            "[19, 2000] loss: 1.464\n",
            "Accuracy of the network on the 1000 test images: 99 %\n",
            "[20,  500] loss: 1.467\n",
            "[20, 1000] loss: 1.465\n",
            "[20, 1500] loss: 1.468\n",
            "[20, 2000] loss: 1.465\n",
            "Accuracy of the network on the 1000 test images: 99 %\n",
            "Finished Training\n"
          ]
        }
      ],
      "source": [
        "best_accuracy = -1.0\n",
        "for epoch in range(start_epoch,end_epoch):  # loop over the dataset multiple times\n",
        "\n",
        "    running_loss = 0.0\n",
        "    for i, data in enumerate(trainloader, 0):\n",
        "        # get the inputs; data is a list of [inputs, labels]\n",
        "        inputs, labels = data\n",
        "        labels = labels.type(torch.LongTensor)\n",
        "        inputs = inputs.to(device)\n",
        "        labels = labels.to(device)\n",
        "\n",
        "        # zero the parameter gradients\n",
        "        optimizer.zero_grad()\n",
        "\n",
        "        # forward + backward + optimize\n",
        "        outputs = net(inputs)\n",
        "        #print(outputs.shape)\n",
        "        loss = criterion(outputs, labels)\n",
        "        loss.backward()\n",
        "        optimizer.step()\n",
        "\n",
        "        # print statistics\n",
        "        running_loss += loss.item()\n",
        "        if i % 500 == 499:    # print every 500 mini-batches\n",
        "            print(f'[{epoch + 1}, {i + 1:4d}] loss: {running_loss / 500:.3f}')\n",
        "            running_loss = 0.0\n",
        "    \n",
        "    current_accuracy = validator(testloader=testloader,net=net)\n",
        "    if current_accuracy>best_accuracy:\n",
        "        best_accuracy = current_accuracy\n",
        "        \n",
        "        torch.save(\n",
        "            {'epoch':epoch, \n",
        "             'model_state_dict': net.state_dict(), \n",
        "             'optimizer_state_dict': optimizer.state_dict()\n",
        "             }, \n",
        "             \n",
        "             your_google_drive_path+'best_model.pth')\n",
        "    \n",
        "    #Save model as checkpoint\n",
        "    torch.save(\n",
        "        {'epoch':epoch, \n",
        "         'model_state_dict': net.state_dict(), \n",
        "         'optimizer_state_dict': optimizer.state_dict() \n",
        "         }, \n",
        "         your_google_drive_path+'checkpoint.pth') \n",
        "\n",
        "\n",
        "\n",
        "print('Finished Training')"
      ]
    },
    {
      "cell_type": "markdown",
      "metadata": {
        "id": "osWrjLkVOD8M"
      },
      "source": [
        "### 5. Test the network on the test data\n",
        "\n",
        "We have trained the network for `end_epoch` passes over the training dataset.\n",
        "But we need to check if the network has learnt anything at all.\n",
        "\n",
        "We will check this by predicting the class label that the neural network\n",
        "outputs, and checking it against the ground-truth. If the prediction is\n",
        "correct, we add the sample to the list of correct predictions.\n",
        "\n",
        "Okay, first step. Let us display an image from the test set to get familiar.\n",
        "\n"
      ]
    },
    {
      "cell_type": "code",
      "execution_count": null,
      "metadata": {
        "colab": {
          "base_uri": "https://localhost:8080/",
          "height": 155
        },
        "id": "WtXDsgqcDvFx",
        "outputId": "01b836b3-3dda-411b-ab48-9f8d908fdfda"
      },
      "outputs": [
        {
          "data": {
            "image/png": "[encoded data removed]",
            "text/plain": [
              "<Figure size 432x288 with 1 Axes>"
            ]
          },
          "metadata": {
            "needs_background": "light"
          },
          "output_type": "display_data"
        },
        {
          "name": "stdout",
          "output_type": "stream",
          "text": [
            "GroundTruth:  one   nine  nine  two  \n"
          ]
        }
      ],
      "source": [
        "dataiter = iter(testloader)\n",
        "images, labels = next(dataiter)\n",
        "# print images\n",
        "imshow(torchvision.utils.make_grid(images))\n",
        "print('GroundTruth: ', ' '.join(f'{classes[int(labels[j].item())]:5s}' for j in range(batch_size)))"
      ]
    },
    {
      "cell_type": "markdown",
      "metadata": {
        "id": "iheWrZ9COImi"
      },
      "source": [
        "Load your best saved model and see what the neural network thinks these examples above are:"
      ]
    },
    {
      "cell_type": "code",
      "execution_count": null,
      "metadata": {
        "colab": {
          "base_uri": "https://localhost:8080/"
        },
        "id": "NH-I4-CUH-ZK",
        "outputId": "14994059-3e59-41e2-bde7-5dcab5a50e30"
      },
      "outputs": [
        {
          "name": "stderr",
          "output_type": "stream",
          "text": [
            "<ipython-input-9-85e6c1892eb3>:67: UserWarning: Implicit dimension choice for softmax has been deprecated. Change the call to include dim=X as an argument.\n",
            "  x = F.softmax(x)\n"
          ]
        }
      ],
      "source": [
        "net_best = ResNet9().to(device)\n",
        "checkpoint = torch.load(your_google_drive_path+'best_model.pth')\n",
        "net_best.load_state_dict(checkpoint['model_state_dict'])\n",
        "\n",
        "\n",
        "images = images.to(device)\n",
        "labels = labels.type(torch.LongTensor)\n",
        "labels = labels.to(device)\n",
        "\n",
        "outputs = net_best(images)"
      ]
    },
    {
      "cell_type": "markdown",
      "metadata": {
        "id": "yaV0ndhnOMR4"
      },
      "source": [
        "The outputs are energies for the 10 classes.\n",
        "The higher the energy for a class, the more the network\n",
        "thinks that the image is of the particular class.\n",
        "So, let's get the index of the highest energy:\n",
        "\n"
      ]
    },
    {
      "cell_type": "code",
      "execution_count": null,
      "metadata": {
        "colab": {
          "base_uri": "https://localhost:8080/"
        },
        "id": "mgLfvqVfITjy",
        "outputId": "fdbcb6f2-d295-476f-fb7a-51dd0862fd3d"
      },
      "outputs": [
        {
          "name": "stdout",
          "output_type": "stream",
          "text": [
            "Predicted:  one   nine  nine  two  \n"
          ]
        }
      ],
      "source": [
        "_, predicted = torch.max(outputs, 1)\n",
        "\n",
        "print('Predicted: ', ' '.join(f'{classes[predicted[j]]:5s}'\n",
        "                              for j in range(batch_size)))"
      ]
    },
    {
      "cell_type": "markdown",
      "metadata": {
        "id": "F8kANFFdOW1q"
      },
      "source": [
        "# [Task 2] : Optional\n",
        "Modify following function to return \"total accuracy\" which is calculated from \"class wise\" accuracies and replace `validator()` function in training loop with `validator_classwise()` function."
      ]
    },
    {
      "cell_type": "code",
      "execution_count": null,
      "metadata": {
        "colab": {
          "base_uri": "https://localhost:8080/"
        },
        "id": "uAulJH5HIlWg",
        "outputId": "8ee32df7-bcb4-4129-9d95-4494e28c7c2c"
      },
      "outputs": [
        {
          "name": "stderr",
          "output_type": "stream",
          "text": [
            "<ipython-input-9-85e6c1892eb3>:67: UserWarning: Implicit dimension choice for softmax has been deprecated. Change the call to include dim=X as an argument.\n",
            "  x = F.softmax(x)\n"
          ]
        },
        {
          "name": "stdout",
          "output_type": "stream",
          "text": [
            "Accuracy for class: zero  is 100.0 %\n",
            "Accuracy for class: one   is 100.0 %\n",
            "Accuracy for class: two   is 100.0 %\n",
            "Accuracy for class: three is 100.0 %\n",
            "Accuracy for class: four  is 100.0 %\n",
            "Accuracy for class: five  is 99.1 %\n",
            "Accuracy for class: six   is 97.0 %\n",
            "Accuracy for class: seven is 100.0 %\n",
            "Accuracy for class: eight is 100.0 %\n",
            "Accuracy for class: nine  is 100.0 %\n"
          ]
        },
        {
          "data": {
            "text/plain": [
              "99.6"
            ]
          },
          "execution_count": 17,
          "metadata": {},
          "output_type": "execute_result"
        }
      ],
      "source": [
        "def validator_classwise(testloader=None,net=None, classes=None):\n",
        "    # prepare to count predictions for each class\n",
        "    correct_pred = {classname: 0 for classname in classes}\n",
        "    total_pred = {classname: 0 for classname in classes}\n",
        "    total_acc = 0\n",
        "    total_size = 0\n",
        "\n",
        "    # again no gradients needed\n",
        "    with torch.no_grad():\n",
        "        for data in testloader:\n",
        "            images, labels = data\n",
        "            images = images.to(device)\n",
        "            labels = labels.to(device)\n",
        "            outputs = net(images)\n",
        "            _, predictions = torch.max(outputs, 1)\n",
        "            # collect the correct predictions for each class\n",
        "            for label, prediction in zip(labels, predictions):\n",
        "                if label == prediction:\n",
        "                    correct_pred[classes[int(label.item())]] += 1\n",
        "                total_pred[classes[int(label.item())]] += 1\n",
        "\n",
        "    for classname in classes :\n",
        "      total_size += total_pred[classname]\n",
        "\n",
        "\n",
        "    # print accuracy for each class\n",
        "    for classname, correct_count in correct_pred.items():\n",
        "        accuracy = 100 * float(correct_count) / total_pred[classname]\n",
        "        total_acc += ((accuracy*total_pred[classname])/total_size)\n",
        "        print(f'Accuracy for class: {classname:5s} is {accuracy:.1f} %')\n",
        "    \n",
        "    return total_acc #your total accuracy variable\n",
        "\n",
        "#Test your logic by uncommenting following line\n",
        "validator_classwise(testloader=testloader,net=net_best, classes=classes)"
      ]
    },
    {
      "cell_type": "markdown",
      "metadata": {
        "id": "_T9av6N_OctW"
      },
      "source": [
        "#[Task 3] : Optional\n",
        "Tune `batch_size` for full GPU utilization. \\\n",
        "In the case of this particular dataset, the cell below prints the batch-size which, when used, makes efficient use of the GPU."
      ]
    },
    {
      "cell_type": "code",
      "execution_count": null,
      "metadata": {
        "colab": {
          "base_uri": "https://localhost:8080/"
        },
        "id": "7Oike7fjIpgy",
        "outputId": "5a94b465-e690-4053-ad8b-4f33f27e8134"
      },
      "outputs": [
        {
          "name": "stderr",
          "output_type": "stream",
          "text": [
            "<ipython-input-9-85e6c1892eb3>:67: UserWarning: Implicit dimension choice for softmax has been deprecated. Change the call to include dim=X as an argument.\n",
            "  x = F.softmax(x)\n"
          ]
        },
        {
          "name": "stdout",
          "output_type": "stream",
          "text": [
            "20\n"
          ]
        }
      ],
      "source": [
        "import typing as t\n",
        "def get_batch_size(\n",
        "    model: nn.Module,\n",
        "    device: torch.device,\n",
        "    input_shape: t.Tuple[int, int, int],\n",
        "    output_shape: t.Tuple[int],\n",
        "    dataset_size: int,\n",
        "    max_batch_size: int = None,\n",
        "    num_iterations: int = 5,\n",
        ") -> int:\n",
        "    model.to(device)\n",
        "    model.train(True)\n",
        "    optimizer = torch.optim.Adam(model.parameters())\n",
        "\n",
        "    batch_size = 2\n",
        "    while True:\n",
        "        if max_batch_size is not None and batch_size >= max_batch_size:\n",
        "            batch_size = max_batch_size\n",
        "            break\n",
        "        if batch_size >= dataset_size:\n",
        "            batch_size = batch_size // 2\n",
        "            break\n",
        "        try:\n",
        "            for _ in range(num_iterations):\n",
        "                # dummy inputs and targets\n",
        "                inputs = torch.rand(*(batch_size, *input_shape), device=device)\n",
        "                targets = torch.rand(*(batch_size, *output_shape), device=device)\n",
        "                outputs = model(inputs)\n",
        "                loss = criterion(targets, outputs)\n",
        "                loss.backward()\n",
        "                optimizer.step()\n",
        "                optimizer.zero_grad()\n",
        "            batch_size *= 2\n",
        "        except RuntimeError:\n",
        "            batch_size //= 2\n",
        "            break\n",
        "    del model, optimizer\n",
        "    torch.cuda.empty_cache()\n",
        "    return batch_size\n",
        "\n",
        "print(get_batch_size(ResNet9(),'cuda',(1,28,28),(10,),10000,20))"
      ]
    },
    {
      "cell_type": "markdown",
      "metadata": {
        "id": "nJfd36kqZPKn"
      },
      "source": [
        "### **Part 4.1**\n",
        "#### **Transfer Learning** by training only the last fully-connected layer\n"
      ]
    },
    {
      "cell_type": "markdown",
      "metadata": {
        "id": "LDNwYaGLY7L4"
      },
      "source": [
        "####**Google drive setup**\n",
        "Create a folder '*checkpoints4*' in your google drive. \\\n",
        "**Run the below cells only after creating the above folder.**\n",
        "\n",
        "Load your best saved model of **Part 1** (original MNIST) to use those already trained parameters."
      ]
    },
    {
      "cell_type": "code",
      "execution_count": null,
      "metadata": {
        "colab": {
          "base_uri": "https://localhost:8080/"
        },
        "id": "FDkOwuuJJJuJ",
        "outputId": "43f0c08f-bfed-497a-939f-82ece8aad498"
      },
      "outputs": [
        {
          "data": {
            "text/plain": [
              "<All keys matched successfully>"
            ]
          },
          "execution_count": 28,
          "metadata": {},
          "output_type": "execute_result"
        }
      ],
      "source": [
        "net_best = ResNet9().to(device)\n",
        "checkpoint = torch.load('/content/drive/MyDrive/checkpoints2/'+'best_model.pth')\n",
        "net_best.load_state_dict(checkpoint['model_state_dict'])"
      ]
    },
    {
      "cell_type": "markdown",
      "metadata": {
        "id": "07jlOKEfbe7r"
      },
      "source": [
        "Freezing all the layers of the neural network except the last layer."
      ]
    },
    {
      "cell_type": "code",
      "execution_count": null,
      "metadata": {
        "colab": {
          "base_uri": "https://localhost:8080/"
        },
        "id": "09yerR1CfF4R",
        "outputId": "3a3efd9b-9897-4a2e-ef54-f8db827d9486"
      },
      "outputs": [
        {
          "name": "stdout",
          "output_type": "stream",
          "text": [
            "torch.Size([64, 1, 3, 3]) False\n",
            "torch.Size([64]) False\n",
            "torch.Size([64]) False\n",
            "torch.Size([64]) False\n",
            "torch.Size([128, 64, 3, 3]) False\n",
            "torch.Size([128]) False\n",
            "torch.Size([128]) False\n",
            "torch.Size([128]) False\n",
            "torch.Size([128, 128, 3, 3]) False\n",
            "torch.Size([128]) False\n",
            "torch.Size([256, 128, 3, 3]) False\n",
            "torch.Size([256]) False\n",
            "torch.Size([256]) False\n",
            "torch.Size([256]) False\n",
            "torch.Size([512, 256, 3, 3]) False\n",
            "torch.Size([512]) False\n",
            "torch.Size([512]) False\n",
            "torch.Size([512]) False\n",
            "torch.Size([512, 512, 3, 3]) False\n",
            "torch.Size([512]) False\n",
            "torch.Size([10, 512]) True\n",
            "torch.Size([10]) True\n",
            "torch.Size([512, 128, 1, 1]) False\n",
            "torch.Size([512]) False\n"
          ]
        }
      ],
      "source": [
        "'''for name,param in net_best.named_parameters():\n",
        "  if 'fc' not in name :\n",
        "    param.requires_grad = False'''\n",
        "\n",
        "for param in net_best.parameters():\n",
        "  param.requires_grad = False\n",
        "\n",
        "net_best.fc = nn.Linear(512, 10)                   # redefining last layer to unfreeze it\n",
        "\n",
        "net_best.to(device)\n",
        "\n",
        "# printing the parameters' shapes and their requires_grad attributes\n",
        "for param in net_best.parameters():\n",
        "    print(param.shape, param.requires_grad)"
      ]
    },
    {
      "cell_type": "markdown",
      "metadata": {
        "id": "k3vXSS1wcuBM"
      },
      "source": [
        "### Define a Loss function and optimizer\n",
        "Let's use a Classification Cross-Entropy loss and SGD with momentum.\n",
        "\n"
      ]
    },
    {
      "cell_type": "code",
      "execution_count": null,
      "metadata": {
        "id": "Fd-qGBLvez2K"
      },
      "outputs": [],
      "source": [
        "import torch.optim as optim\n",
        "\n",
        "criterion = nn.CrossEntropyLoss()\n",
        "optimizer = optim.SGD(net_best.parameters(), lr=0.010, momentum=0.9)"
      ]
    },
    {
      "cell_type": "markdown",
      "metadata": {
        "id": "Dodu8c6Zcx51"
      },
      "source": [
        "### Train the network\n",
        "\n",
        "We simply have to loop over our data iterator, and feed the inputs to the\n",
        "network and optimize.\n",
        "\n"
      ]
    },
    {
      "cell_type": "code",
      "execution_count": null,
      "metadata": {
        "id": "MFnRUYXOfAjp"
      },
      "outputs": [],
      "source": [
        "start_epoch=0\n",
        "end_epoch=50\n",
        "\n",
        "#If you are resuming your model, Uncomment following lines\n",
        "\n",
        "#checkpoint = torch.load(your_google_drive_path+'checkpoint.pth')\n",
        "#start_epoch = checkpoint['epoch']+1\n",
        "#net.load_state_dict(checkpoint['model_state_dict'])\n",
        "#optimizer.load_state_dict(checkpoint['optimizer_state_dict'])"
      ]
    },
    {
      "cell_type": "code",
      "execution_count": null,
      "metadata": {
        "colab": {
          "base_uri": "https://localhost:8080/"
        },
        "id": "UMYuc6LDfDaq",
        "outputId": "131fa330-86ea-4239-c08c-eb99b4c0160c"
      },
      "outputs": [
        {
          "name": "stderr",
          "output_type": "stream",
          "text": [
            "<ipython-input-9-85e6c1892eb3>:67: UserWarning: Implicit dimension choice for softmax has been deprecated. Change the call to include dim=X as an argument.\n",
            "  x = F.softmax(x)\n"
          ]
        },
        {
          "name": "stdout",
          "output_type": "stream",
          "text": [
            "[1,  500] loss: 1.950\n",
            "[1, 1000] loss: 1.965\n",
            "[1, 1500] loss: 1.957\n",
            "[1, 2000] loss: 1.958\n",
            "Accuracy of the network on the 1000 test images: 47 %\n",
            "[2,  500] loss: 1.965\n",
            "[2, 1000] loss: 1.957\n",
            "[2, 1500] loss: 1.961\n",
            "[2, 2000] loss: 1.948\n",
            "Accuracy of the network on the 1000 test images: 53 %\n",
            "[3,  500] loss: 1.943\n",
            "[3, 1000] loss: 1.955\n",
            "[3, 1500] loss: 1.943\n",
            "[3, 2000] loss: 1.960\n",
            "Accuracy of the network on the 1000 test images: 50 %\n",
            "[4,  500] loss: 1.952\n",
            "[4, 1000] loss: 1.956\n",
            "[4, 1500] loss: 1.967\n",
            "[4, 2000] loss: 1.964\n",
            "Accuracy of the network on the 1000 test images: 50 %\n",
            "[5,  500] loss: 1.938\n",
            "[5, 1000] loss: 1.961\n",
            "[5, 1500] loss: 1.951\n",
            "[5, 2000] loss: 1.975\n",
            "Accuracy of the network on the 1000 test images: 49 %\n",
            "[6,  500] loss: 1.953\n",
            "[6, 1000] loss: 1.950\n",
            "[6, 1500] loss: 1.965\n",
            "[6, 2000] loss: 1.969\n",
            "Accuracy of the network on the 1000 test images: 53 %\n",
            "[7,  500] loss: 1.961\n",
            "[7, 1000] loss: 1.965\n",
            "[7, 1500] loss: 1.972\n",
            "[7, 2000] loss: 1.935\n",
            "Accuracy of the network on the 1000 test images: 51 %\n",
            "[8,  500] loss: 1.951\n",
            "[8, 1000] loss: 1.954\n",
            "[8, 1500] loss: 1.953\n",
            "[8, 2000] loss: 1.960\n",
            "Accuracy of the network on the 1000 test images: 36 %\n",
            "[9,  500] loss: 1.964\n",
            "[9, 1000] loss: 1.961\n",
            "[9, 1500] loss: 1.956\n",
            "[9, 2000] loss: 1.956\n",
            "Accuracy of the network on the 1000 test images: 50 %\n",
            "[10,  500] loss: 1.952\n",
            "[10, 1000] loss: 1.945\n",
            "[10, 1500] loss: 1.955\n",
            "[10, 2000] loss: 1.946\n",
            "Accuracy of the network on the 1000 test images: 51 %\n",
            "[11,  500] loss: 1.959\n",
            "[11, 1000] loss: 1.964\n",
            "[11, 1500] loss: 1.963\n",
            "[11, 2000] loss: 1.946\n",
            "Accuracy of the network on the 1000 test images: 50 %\n",
            "[12,  500] loss: 1.938\n",
            "[12, 1000] loss: 1.949\n",
            "[12, 1500] loss: 1.972\n",
            "[12, 2000] loss: 1.952\n",
            "Accuracy of the network on the 1000 test images: 42 %\n",
            "[13,  500] loss: 1.948\n",
            "[13, 1000] loss: 1.944\n",
            "[13, 1500] loss: 1.963\n",
            "[13, 2000] loss: 1.948\n",
            "Accuracy of the network on the 1000 test images: 52 %\n",
            "[14,  500] loss: 1.964\n",
            "[14, 1000] loss: 1.953\n",
            "[14, 1500] loss: 1.947\n",
            "[14, 2000] loss: 1.941\n",
            "Accuracy of the network on the 1000 test images: 46 %\n",
            "[15,  500] loss: 1.965\n",
            "[15, 1000] loss: 1.946\n",
            "[15, 1500] loss: 1.970\n",
            "[15, 2000] loss: 1.957\n",
            "Accuracy of the network on the 1000 test images: 55 %\n",
            "[16,  500] loss: 1.937\n",
            "[16, 1000] loss: 1.948\n",
            "[16, 1500] loss: 1.964\n",
            "[16, 2000] loss: 1.949\n",
            "Accuracy of the network on the 1000 test images: 54 %\n",
            "[17,  500] loss: 1.940\n",
            "[17, 1000] loss: 1.950\n",
            "[17, 1500] loss: 1.932\n",
            "[17, 2000] loss: 1.960\n",
            "Accuracy of the network on the 1000 test images: 47 %\n",
            "[18,  500] loss: 1.945\n",
            "[18, 1000] loss: 1.941\n",
            "[18, 1500] loss: 1.941\n",
            "[18, 2000] loss: 1.950\n",
            "Accuracy of the network on the 1000 test images: 52 %\n",
            "[19,  500] loss: 1.967\n",
            "[19, 1000] loss: 1.939\n",
            "[19, 1500] loss: 1.944\n",
            "[19, 2000] loss: 1.954\n",
            "Accuracy of the network on the 1000 test images: 49 %\n",
            "[20,  500] loss: 1.944\n",
            "[20, 1000] loss: 1.913\n",
            "[20, 1500] loss: 1.975\n",
            "[20, 2000] loss: 1.978\n",
            "Accuracy of the network on the 1000 test images: 51 %\n",
            "[21,  500] loss: 1.962\n",
            "[21, 1000] loss: 1.949\n",
            "[21, 1500] loss: 1.948\n",
            "[21, 2000] loss: 1.922\n",
            "Accuracy of the network on the 1000 test images: 53 %\n",
            "[22,  500] loss: 1.943\n",
            "[22, 1000] loss: 1.954\n",
            "[22, 1500] loss: 1.932\n",
            "[22, 2000] loss: 1.962\n",
            "Accuracy of the network on the 1000 test images: 53 %\n",
            "[23,  500] loss: 1.949\n",
            "[23, 1000] loss: 1.944\n",
            "[23, 1500] loss: 1.963\n",
            "[23, 2000] loss: 1.941\n",
            "Accuracy of the network on the 1000 test images: 51 %\n",
            "[24,  500] loss: 1.948\n",
            "[24, 1000] loss: 1.934\n",
            "[24, 1500] loss: 1.953\n",
            "[24, 2000] loss: 1.942\n",
            "Accuracy of the network on the 1000 test images: 53 %\n",
            "[25,  500] loss: 1.941\n",
            "[25, 1000] loss: 1.941\n",
            "[25, 1500] loss: 1.960\n",
            "[25, 2000] loss: 1.948\n",
            "Accuracy of the network on the 1000 test images: 50 %\n",
            "[26,  500] loss: 1.947\n",
            "[26, 1000] loss: 1.955\n",
            "[26, 1500] loss: 1.956\n",
            "[26, 2000] loss: 1.960\n",
            "Accuracy of the network on the 1000 test images: 52 %\n",
            "[27,  500] loss: 1.939\n",
            "[27, 1000] loss: 1.949\n",
            "[27, 1500] loss: 1.952\n",
            "[27, 2000] loss: 1.930\n",
            "Accuracy of the network on the 1000 test images: 54 %\n",
            "[28,  500] loss: 1.942\n",
            "[28, 1000] loss: 1.932\n",
            "[28, 1500] loss: 1.961\n",
            "[28, 2000] loss: 1.937\n",
            "Accuracy of the network on the 1000 test images: 51 %\n",
            "[29,  500] loss: 1.936\n",
            "[29, 1000] loss: 1.950\n",
            "[29, 1500] loss: 1.954\n",
            "[29, 2000] loss: 1.925\n",
            "Accuracy of the network on the 1000 test images: 51 %\n",
            "[30,  500] loss: 1.943\n",
            "[30, 1000] loss: 1.953\n",
            "[30, 1500] loss: 1.930\n",
            "[30, 2000] loss: 1.942\n",
            "Accuracy of the network on the 1000 test images: 53 %\n",
            "[31,  500] loss: 1.934\n",
            "[31, 1000] loss: 1.927\n",
            "[31, 1500] loss: 1.953\n",
            "[31, 2000] loss: 1.947\n",
            "Accuracy of the network on the 1000 test images: 52 %\n",
            "[32,  500] loss: 1.953\n",
            "[32, 1000] loss: 1.966\n",
            "[32, 1500] loss: 1.950\n",
            "[32, 2000] loss: 1.945\n",
            "Accuracy of the network on the 1000 test images: 48 %\n",
            "[33,  500] loss: 1.937\n",
            "[33, 1000] loss: 1.950\n",
            "[33, 1500] loss: 1.938\n",
            "[33, 2000] loss: 1.949\n",
            "Accuracy of the network on the 1000 test images: 52 %\n",
            "[34,  500] loss: 1.946\n",
            "[34, 1000] loss: 1.943\n",
            "[34, 1500] loss: 1.939\n",
            "[34, 2000] loss: 1.939\n",
            "Accuracy of the network on the 1000 test images: 49 %\n",
            "[35,  500] loss: 1.930\n",
            "[35, 1000] loss: 1.923\n",
            "[35, 1500] loss: 1.963\n",
            "[35, 2000] loss: 1.961\n",
            "Accuracy of the network on the 1000 test images: 53 %\n",
            "[36,  500] loss: 1.956\n",
            "[36, 1000] loss: 1.957\n",
            "[36, 1500] loss: 1.932\n",
            "[36, 2000] loss: 1.930\n",
            "Accuracy of the network on the 1000 test images: 49 %\n",
            "[37,  500] loss: 1.940\n",
            "[37, 1000] loss: 1.920\n",
            "[37, 1500] loss: 1.950\n",
            "[37, 2000] loss: 1.930\n",
            "Accuracy of the network on the 1000 test images: 48 %\n",
            "[38,  500] loss: 1.931\n",
            "[38, 1000] loss: 1.964\n",
            "[38, 1500] loss: 1.943\n",
            "[38, 2000] loss: 1.948\n",
            "Accuracy of the network on the 1000 test images: 53 %\n",
            "[39,  500] loss: 1.934\n",
            "[39, 1000] loss: 1.936\n",
            "[39, 1500] loss: 1.943\n",
            "[39, 2000] loss: 1.951\n",
            "Accuracy of the network on the 1000 test images: 50 %\n",
            "[40,  500] loss: 1.933\n",
            "[40, 1000] loss: 1.950\n",
            "[40, 1500] loss: 1.942\n",
            "[40, 2000] loss: 1.944\n",
            "Accuracy of the network on the 1000 test images: 51 %\n",
            "[41,  500] loss: 1.941\n",
            "[41, 1000] loss: 1.964\n",
            "[41, 1500] loss: 1.941\n",
            "[41, 2000] loss: 1.928\n",
            "Accuracy of the network on the 1000 test images: 49 %\n",
            "[42,  500] loss: 1.937\n",
            "[42, 1000] loss: 1.934\n",
            "[42, 1500] loss: 1.958\n",
            "[42, 2000] loss: 1.946\n",
            "Accuracy of the network on the 1000 test images: 50 %\n",
            "[43,  500] loss: 1.934\n",
            "[43, 1000] loss: 1.946\n",
            "[43, 1500] loss: 1.955\n",
            "[43, 2000] loss: 1.929\n",
            "Accuracy of the network on the 1000 test images: 53 %\n",
            "[44,  500] loss: 1.942\n",
            "[44, 1000] loss: 1.933\n",
            "[44, 1500] loss: 1.940\n",
            "[44, 2000] loss: 1.927\n",
            "Accuracy of the network on the 1000 test images: 54 %\n",
            "[45,  500] loss: 1.942\n",
            "[45, 1000] loss: 1.952\n",
            "[45, 1500] loss: 1.931\n",
            "[45, 2000] loss: 1.933\n",
            "Accuracy of the network on the 1000 test images: 48 %\n",
            "[46,  500] loss: 1.941\n",
            "[46, 1000] loss: 1.937\n",
            "[46, 1500] loss: 1.940\n",
            "[46, 2000] loss: 1.926\n",
            "Accuracy of the network on the 1000 test images: 53 %\n",
            "[47,  500] loss: 1.952\n",
            "[47, 1000] loss: 1.934\n",
            "[47, 1500] loss: 1.940\n",
            "[47, 2000] loss: 1.962\n",
            "Accuracy of the network on the 1000 test images: 51 %\n",
            "[48,  500] loss: 1.939\n",
            "[48, 1000] loss: 1.932\n",
            "[48, 1500] loss: 1.939\n",
            "[48, 2000] loss: 1.945\n",
            "Accuracy of the network on the 1000 test images: 54 %\n",
            "[49,  500] loss: 1.947\n",
            "[49, 1000] loss: 1.933\n",
            "[49, 1500] loss: 1.965\n",
            "[49, 2000] loss: 1.952\n",
            "Accuracy of the network on the 1000 test images: 53 %\n",
            "[50,  500] loss: 1.958\n",
            "[50, 1000] loss: 1.933\n",
            "[50, 1500] loss: 1.919\n",
            "[50, 2000] loss: 1.936\n",
            "Accuracy of the network on the 1000 test images: 50 %\n",
            "Finished Training\n"
          ]
        }
      ],
      "source": [
        "best_accuracy = -1.0\n",
        "for epoch in range(start_epoch,end_epoch):  # loop over the dataset multiple times\n",
        "\n",
        "    running_loss = 0.0\n",
        "    for i, data in enumerate(trainloader, 0):\n",
        "        # get the inputs; data is a list of [inputs, labels]\n",
        "        inputs, labels = data\n",
        "        labels = labels.type(torch.LongTensor)\n",
        "        inputs = inputs.to(device)\n",
        "        labels = labels.to(device)\n",
        "\n",
        "        # zero the parameter gradients\n",
        "        optimizer.zero_grad()\n",
        "\n",
        "        # forward + backward + optimize\n",
        "        outputs = net_best(inputs)\n",
        "        #print(outputs.shape)\n",
        "        loss = criterion(outputs, labels)\n",
        "        loss.backward()\n",
        "        optimizer.step()\n",
        "\n",
        "        # print statistics\n",
        "        running_loss += loss.item()\n",
        "        if i % 500 == 499:    # print every 500 mini-batches\n",
        "            print(f'[{epoch + 1}, {i + 1:4d}] loss: {running_loss / 500:.3f}')\n",
        "            running_loss = 0.0\n",
        "    \n",
        "    current_accuracy = validator(testloader=testloader,net=net_best)\n",
        "    if current_accuracy>best_accuracy:\n",
        "        best_accuracy = current_accuracy\n",
        "        \n",
        "        torch.save(\n",
        "            {'epoch':epoch, \n",
        "             'model_state_dict': net_best.state_dict(), \n",
        "             'optimizer_state_dict': optimizer.state_dict()\n",
        "             }, \n",
        "             \n",
        "             '/content/drive/MyDrive/checkpoints4/'+'best_model.pth')\n",
        "    \n",
        "    #Save model as checkpoint\n",
        "    torch.save(\n",
        "        {'epoch':epoch, \n",
        "         'model_state_dict': net_best.state_dict(), \n",
        "         'optimizer_state_dict': optimizer.state_dict() \n",
        "         }, \n",
        "         '/content/drive/MyDrive/checkpoints4/'+'checkpoint.pth') \n",
        "\n",
        "\n",
        "\n",
        "print('Finished Training')"
      ]
    },
    {
      "cell_type": "markdown",
      "metadata": {
        "id": "i5yM_0C0fLsV"
      },
      "source": [
        "### **Part 4.2**\n",
        "#### **Transfer Learning** by freezing all except the last 2 layers\n"
      ]
    },
    {
      "cell_type": "markdown",
      "metadata": {
        "id": "3MntmyouhoGJ"
      },
      "source": [
        "####**Google drive setup**\n",
        "Create a folder '*checkpoints4*' in your google drive. \\\n",
        "**Run the below cells only after creating the above folder.**\n",
        "\n",
        "Load your best saved model of **Part 1** (original MNIST) to use those already trained parameters."
      ]
    },
    {
      "cell_type": "code",
      "execution_count": null,
      "metadata": {
        "colab": {
          "base_uri": "https://localhost:8080/"
        },
        "id": "v2IhfHTxfOf8",
        "outputId": "2af1ec0a-2adc-445f-bfb0-57ecb3ce02d1"
      },
      "outputs": [
        {
          "data": {
            "text/plain": [
              "<All keys matched successfully>"
            ]
          },
          "execution_count": 12,
          "metadata": {},
          "output_type": "execute_result"
        }
      ],
      "source": [
        "net_best = ResNet9().to(device)\n",
        "checkpoint = torch.load('/content/drive/MyDrive/checkpoints2/'+'best_model.pth')\n",
        "net_best.load_state_dict(checkpoint['model_state_dict'])"
      ]
    },
    {
      "cell_type": "markdown",
      "metadata": {
        "id": "3MExjjHJhszJ"
      },
      "source": [
        "Freezing all the layers of the neural network except the last layer."
      ]
    },
    {
      "cell_type": "code",
      "execution_count": null,
      "metadata": {
        "colab": {
          "base_uri": "https://localhost:8080/"
        },
        "id": "olmBmOIKfTCJ",
        "outputId": "79ccb278-c3f3-417f-93e9-3a9d2dc73e54"
      },
      "outputs": [
        {
          "name": "stdout",
          "output_type": "stream",
          "text": [
            "torch.Size([64, 1, 3, 3]) False\n",
            "torch.Size([64]) False\n",
            "torch.Size([64]) False\n",
            "torch.Size([64]) False\n",
            "torch.Size([128, 64, 3, 3]) False\n",
            "torch.Size([128]) False\n",
            "torch.Size([128]) False\n",
            "torch.Size([128]) False\n",
            "torch.Size([128, 128, 3, 3]) False\n",
            "torch.Size([128]) False\n",
            "torch.Size([256, 128, 3, 3]) False\n",
            "torch.Size([256]) False\n",
            "torch.Size([256]) False\n",
            "torch.Size([256]) False\n",
            "torch.Size([512, 256, 3, 3]) False\n",
            "torch.Size([512]) False\n",
            "torch.Size([512]) False\n",
            "torch.Size([512]) False\n",
            "torch.Size([512, 512, 3, 3]) True\n",
            "torch.Size([512]) True\n",
            "torch.Size([10, 512]) True\n",
            "torch.Size([10]) True\n",
            "torch.Size([512, 128, 1, 1]) False\n",
            "torch.Size([512]) False\n"
          ]
        }
      ],
      "source": [
        "'''for name,param in net_best.named_parameters():\n",
        "  if 'fc' not in name :\n",
        "    param.requires_grad = False'''\n",
        "\n",
        "for param in net_best.parameters():\n",
        "  param.requires_grad = False\n",
        "\n",
        "net_best.conv6 = nn.Conv2d(512, 512, 3,padding=1, stride=1)\n",
        "net_best.fc = nn.Linear(512, 10)\n",
        "\n",
        "net_best.to(device)\n",
        "\n",
        "for param in net_best.parameters():\n",
        "    print(param.shape, param.requires_grad)\n",
        "\n",
        "#print(net_best.device)"
      ]
    },
    {
      "cell_type": "markdown",
      "metadata": {
        "id": "PdqykA9FhxWM"
      },
      "source": [
        "### Define a Loss function and optimizer\n",
        "Let's use a Classification Cross-Entropy loss and SGD with momentum.\n",
        "\n"
      ]
    },
    {
      "cell_type": "code",
      "execution_count": null,
      "metadata": {
        "id": "ePEWHrNVfXNf"
      },
      "outputs": [],
      "source": [
        "import torch.optim as optim\n",
        "\n",
        "criterion = nn.CrossEntropyLoss()\n",
        "optimizer = optim.SGD(net_best.parameters(), lr=0.010, momentum=0.9)"
      ]
    },
    {
      "cell_type": "markdown",
      "metadata": {
        "id": "ULJYzTufh4ew"
      },
      "source": [
        "### Train the network\n",
        "\n",
        "We simply have to loop over our data iterator, and feed the inputs to the\n",
        "network and optimize.\n",
        "\n"
      ]
    },
    {
      "cell_type": "code",
      "execution_count": null,
      "metadata": {
        "id": "w9VmZlcOfaUO"
      },
      "outputs": [],
      "source": [
        "start_epoch=0\n",
        "end_epoch=50\n",
        "\n",
        "#If you are resuming your model, Uncomment following lines\n",
        "\n",
        "#checkpoint = torch.load(your_google_drive_path+'checkpoint.pth')\n",
        "#start_epoch = checkpoint['epoch']+1\n",
        "#net.load_state_dict(checkpoint['model_state_dict'])\n",
        "#optimizer.load_state_dict(checkpoint['optimizer_state_dict'])"
      ]
    },
    {
      "cell_type": "code",
      "execution_count": null,
      "metadata": {
        "colab": {
          "background_save": true,
          "base_uri": "https://localhost:8080/"
        },
        "id": "aPiVg9n5fc19",
        "outputId": "da9954aa-82b1-4d12-f9c6-a642e8f29f1b"
      },
      "outputs": [
        {
          "name": "stderr",
          "output_type": "stream",
          "text": [
            "<ipython-input-10-85e6c1892eb3>:67: UserWarning: Implicit dimension choice for softmax has been deprecated. Change the call to include dim=X as an argument.\n",
            "  x = F.softmax(x)\n"
          ]
        },
        {
          "name": "stdout",
          "output_type": "stream",
          "text": [
            "[1,  500] loss: 2.336\n",
            "[1, 1000] loss: 2.343\n",
            "[1, 1500] loss: 2.343\n",
            "[1, 2000] loss: 2.337\n",
            "Accuracy of the network on the 1000 test images: 10 %\n",
            "[2,  500] loss: 2.328\n",
            "[2, 1000] loss: 2.314\n",
            "[2, 1500] loss: 2.287\n",
            "[2, 2000] loss: 2.294\n",
            "Accuracy of the network on the 1000 test images: 16 %\n",
            "[3,  500] loss: 2.263\n",
            "[3, 1000] loss: 2.255\n",
            "[3, 1500] loss: 2.278\n",
            "[3, 2000] loss: 2.256\n",
            "Accuracy of the network on the 1000 test images: 20 %\n",
            "[4,  500] loss: 2.241\n",
            "[4, 1000] loss: 2.222\n",
            "[4, 1500] loss: 2.208\n",
            "[4, 2000] loss: 2.175\n",
            "Accuracy of the network on the 1000 test images: 21 %\n",
            "[5,  500] loss: 2.182\n",
            "[5, 1000] loss: 2.165\n",
            "[5, 1500] loss: 2.158\n",
            "[5, 2000] loss: 2.131\n",
            "Accuracy of the network on the 1000 test images: 32 %\n",
            "[6,  500] loss: 2.105\n",
            "[6, 1000] loss: 2.137\n",
            "[6, 1500] loss: 2.090\n",
            "[6, 2000] loss: 2.101\n",
            "Accuracy of the network on the 1000 test images: 41 %\n",
            "[7,  500] loss: 2.072\n",
            "[7, 1000] loss: 2.063\n",
            "[7, 1500] loss: 2.042\n",
            "[7, 2000] loss: 2.052\n",
            "Accuracy of the network on the 1000 test images: 44 %\n",
            "[8,  500] loss: 2.021\n",
            "[8, 1000] loss: 2.031\n",
            "[8, 1500] loss: 2.038\n",
            "[8, 2000] loss: 2.020\n",
            "Accuracy of the network on the 1000 test images: 38 %\n",
            "[9,  500] loss: 2.024\n",
            "[9, 1000] loss: 1.971\n",
            "[9, 1500] loss: 2.001\n",
            "[9, 2000] loss: 2.009\n",
            "Accuracy of the network on the 1000 test images: 45 %\n",
            "[10,  500] loss: 1.989\n",
            "[10, 1000] loss: 1.986\n",
            "[10, 1500] loss: 1.972\n",
            "[10, 2000] loss: 1.949\n",
            "Accuracy of the network on the 1000 test images: 52 %\n",
            "[11,  500] loss: 1.944\n",
            "[11, 1000] loss: 1.949\n",
            "[11, 1500] loss: 1.936\n",
            "[11, 2000] loss: 1.919\n",
            "Accuracy of the network on the 1000 test images: 54 %\n",
            "[12,  500] loss: 1.930\n",
            "[12, 1000] loss: 1.919\n",
            "[12, 1500] loss: 1.934\n",
            "[12, 2000] loss: 1.908\n",
            "Accuracy of the network on the 1000 test images: 54 %\n",
            "[13,  500] loss: 1.923\n",
            "[13, 1000] loss: 1.914\n",
            "[13, 1500] loss: 1.901\n",
            "[13, 2000] loss: 1.902\n",
            "Accuracy of the network on the 1000 test images: 55 %\n",
            "[14,  500] loss: 1.900\n",
            "[14, 1000] loss: 1.898\n",
            "[14, 1500] loss: 1.879\n",
            "[14, 2000] loss: 1.894\n",
            "Accuracy of the network on the 1000 test images: 55 %\n",
            "[15,  500] loss: 1.889\n",
            "[15, 1000] loss: 1.873\n",
            "[15, 1500] loss: 1.868\n",
            "[15, 2000] loss: 1.882\n",
            "Accuracy of the network on the 1000 test images: 57 %\n",
            "[16,  500] loss: 1.874\n",
            "[16, 1000] loss: 1.872\n",
            "[16, 1500] loss: 1.861\n",
            "[16, 2000] loss: 1.866\n",
            "Accuracy of the network on the 1000 test images: 57 %\n",
            "[17,  500] loss: 1.855\n",
            "[17, 1000] loss: 1.873\n",
            "[17, 1500] loss: 1.845\n",
            "[17, 2000] loss: 1.851\n",
            "Accuracy of the network on the 1000 test images: 55 %\n",
            "[18,  500] loss: 1.865\n",
            "[18, 1000] loss: 1.865\n",
            "[18, 1500] loss: 1.834\n",
            "[18, 2000] loss: 1.825\n",
            "Accuracy of the network on the 1000 test images: 63 %\n",
            "[19,  500] loss: 1.822\n",
            "[19, 1000] loss: 1.825\n",
            "[19, 1500] loss: 1.814\n",
            "[19, 2000] loss: 1.816\n",
            "Accuracy of the network on the 1000 test images: 70 %\n",
            "[20,  500] loss: 1.796\n",
            "[20, 1000] loss: 1.795\n",
            "[20, 1500] loss: 1.796\n",
            "[20, 2000] loss: 1.794\n",
            "Accuracy of the network on the 1000 test images: 71 %\n",
            "[21,  500] loss: 1.781\n",
            "[21, 1000] loss: 1.781\n",
            "[21, 1500] loss: 1.772\n",
            "[21, 2000] loss: 1.751\n",
            "Accuracy of the network on the 1000 test images: 74 %\n",
            "[22,  500] loss: 1.746\n",
            "[22, 1000] loss: 1.749\n",
            "[22, 1500] loss: 1.748\n",
            "[22, 2000] loss: 1.732\n",
            "Accuracy of the network on the 1000 test images: 73 %\n",
            "[23,  500] loss: 1.731\n",
            "[23, 1000] loss: 1.727\n",
            "[23, 1500] loss: 1.700\n",
            "[23, 2000] loss: 1.717\n",
            "Accuracy of the network on the 1000 test images: 80 %\n",
            "[24,  500] loss: 1.718\n",
            "[24, 1000] loss: 1.724\n",
            "[24, 1500] loss: 1.711\n",
            "[24, 2000] loss: 1.693\n",
            "Accuracy of the network on the 1000 test images: 76 %\n",
            "[25,  500] loss: 1.706\n",
            "[25, 1000] loss: 1.698\n",
            "[25, 1500] loss: 1.674\n",
            "[25, 2000] loss: 1.679\n",
            "Accuracy of the network on the 1000 test images: 78 %\n",
            "[26,  500] loss: 1.666\n",
            "[26, 1000] loss: 1.681\n",
            "[26, 1500] loss: 1.673\n",
            "[26, 2000] loss: 1.684\n",
            "Accuracy of the network on the 1000 test images: 83 %\n",
            "[27,  500] loss: 1.666\n",
            "[27, 1000] loss: 1.655\n",
            "[27, 1500] loss: 1.656\n",
            "[27, 2000] loss: 1.651\n",
            "Accuracy of the network on the 1000 test images: 82 %\n",
            "[28,  500] loss: 1.673\n",
            "[28, 1000] loss: 1.641\n",
            "[28, 1500] loss: 1.634\n",
            "[28, 2000] loss: 1.640\n",
            "Accuracy of the network on the 1000 test images: 84 %\n",
            "[29,  500] loss: 1.637\n",
            "[29, 1000] loss: 1.643\n",
            "[29, 1500] loss: 1.632\n",
            "[29, 2000] loss: 1.630\n",
            "Accuracy of the network on the 1000 test images: 82 %\n",
            "[30,  500] loss: 1.616\n",
            "[30, 1000] loss: 1.625\n",
            "[30, 1500] loss: 1.625\n",
            "[30, 2000] loss: 1.629\n",
            "Accuracy of the network on the 1000 test images: 83 %\n",
            "[31,  500] loss: 1.628\n",
            "[31, 1000] loss: 1.624\n",
            "[31, 1500] loss: 1.613\n",
            "[31, 2000] loss: 1.602\n",
            "Accuracy of the network on the 1000 test images: 88 %\n",
            "[32,  500] loss: 1.615\n",
            "[32, 1000] loss: 1.607\n",
            "[32, 1500] loss: 1.608\n",
            "[32, 2000] loss: 1.615\n",
            "Accuracy of the network on the 1000 test images: 86 %\n",
            "[33,  500] loss: 1.612\n",
            "[33, 1000] loss: 1.593\n",
            "[33, 1500] loss: 1.595\n",
            "[33, 2000] loss: 1.600\n",
            "Accuracy of the network on the 1000 test images: 88 %\n",
            "[34,  500] loss: 1.598\n",
            "[34, 1000] loss: 1.592\n",
            "[34, 1500] loss: 1.590\n",
            "[34, 2000] loss: 1.588\n",
            "Accuracy of the network on the 1000 test images: 86 %\n",
            "[35,  500] loss: 1.579\n",
            "[35, 1000] loss: 1.589\n",
            "[35, 1500] loss: 1.584\n",
            "[35, 2000] loss: 1.588\n",
            "Accuracy of the network on the 1000 test images: 87 %\n",
            "[36,  500] loss: 1.581\n",
            "[36, 1000] loss: 1.593\n",
            "[36, 1500] loss: 1.595\n",
            "[36, 2000] loss: 1.569\n",
            "Accuracy of the network on the 1000 test images: 89 %\n",
            "[37,  500] loss: 1.589\n",
            "[37, 1000] loss: 1.587\n",
            "[37, 1500] loss: 1.589\n",
            "[37, 2000] loss: 1.580\n",
            "Accuracy of the network on the 1000 test images: 88 %\n",
            "[38,  500] loss: 1.582\n",
            "[38, 1000] loss: 1.573\n",
            "[38, 1500] loss: 1.568\n",
            "[38, 2000] loss: 1.579\n",
            "Accuracy of the network on the 1000 test images: 89 %\n",
            "[39,  500] loss: 1.565\n",
            "[39, 1000] loss: 1.577\n",
            "[39, 1500] loss: 1.565\n",
            "[39, 2000] loss: 1.574\n",
            "Accuracy of the network on the 1000 test images: 88 %\n",
            "[40,  500] loss: 1.575\n",
            "[40, 1000] loss: 1.570\n",
            "[40, 1500] loss: 1.565\n",
            "[40, 2000] loss: 1.543\n",
            "Accuracy of the network on the 1000 test images: 90 %\n",
            "[41,  500] loss: 1.564\n",
            "[41, 1000] loss: 1.554\n",
            "[41, 1500] loss: 1.559\n",
            "[41, 2000] loss: 1.557\n",
            "Accuracy of the network on the 1000 test images: 90 %\n",
            "[42,  500] loss: 1.559\n",
            "[42, 1000] loss: 1.575\n",
            "[42, 1500] loss: 1.560\n",
            "[42, 2000] loss: 1.559\n",
            "Accuracy of the network on the 1000 test images: 91 %\n",
            "[43,  500] loss: 1.563\n",
            "[43, 1000] loss: 1.563\n",
            "[43, 1500] loss: 1.559\n",
            "[43, 2000] loss: 1.552\n",
            "Accuracy of the network on the 1000 test images: 91 %\n",
            "[44,  500] loss: 1.544\n",
            "[44, 1000] loss: 1.556\n",
            "[44, 1500] loss: 1.535\n",
            "[44, 2000] loss: 1.565\n",
            "Accuracy of the network on the 1000 test images: 91 %\n",
            "[45,  500] loss: 1.561\n",
            "[45, 1000] loss: 1.546\n",
            "[45, 1500] loss: 1.551\n",
            "[45, 2000] loss: 1.548\n",
            "Accuracy of the network on the 1000 test images: 87 %\n",
            "[46,  500] loss: 1.548\n",
            "[46, 1000] loss: 1.552\n",
            "[46, 1500] loss: 1.538\n",
            "[46, 2000] loss: 1.543\n",
            "Accuracy of the network on the 1000 test images: 91 %\n",
            "[47,  500] loss: 1.543\n",
            "[47, 1000] loss: 1.545\n",
            "[47, 1500] loss: 1.548\n",
            "[47, 2000] loss: 1.543\n",
            "Accuracy of the network on the 1000 test images: 88 %\n",
            "[48,  500] loss: 1.548\n",
            "[48, 1000] loss: 1.541\n",
            "[48, 1500] loss: 1.542\n",
            "[48, 2000] loss: 1.545\n",
            "Accuracy of the network on the 1000 test images: 91 %\n",
            "[49,  500] loss: 1.541\n",
            "[49, 1000] loss: 1.530\n",
            "[49, 1500] loss: 1.548\n",
            "[49, 2000] loss: 1.547\n",
            "Accuracy of the network on the 1000 test images: 91 %\n",
            "[50,  500] loss: 1.551\n",
            "[50, 1000] loss: 1.547\n",
            "[50, 1500] loss: 1.528\n",
            "[50, 2000] loss: 1.526\n",
            "Accuracy of the network on the 1000 test images: 95 %\n",
            "Finished Training\n"
          ]
        }
      ],
      "source": [
        "best_accuracy = -1.0\n",
        "for epoch in range(start_epoch,end_epoch):  # loop over the dataset multiple times\n",
        "\n",
        "    running_loss = 0.0\n",
        "    for i, data in enumerate(trainloader, 0):\n",
        "        # get the inputs; data is a list of [inputs, labels]\n",
        "        inputs, labels = data\n",
        "        labels = labels.type(torch.LongTensor)\n",
        "        inputs = inputs.to(device)\n",
        "        labels = labels.to(device)\n",
        "\n",
        "        # zero the parameter gradients\n",
        "        optimizer.zero_grad()\n",
        "\n",
        "        # forward + backward + optimize\n",
        "        outputs = net_best(inputs)\n",
        "        #print(outputs.shape)\n",
        "        loss = criterion(outputs, labels)\n",
        "        loss.backward()\n",
        "        optimizer.step()\n",
        "\n",
        "        # print statistics\n",
        "        running_loss += loss.item()\n",
        "        if i % 500 == 499:    # print every 500 mini-batches\n",
        "            print(f'[{epoch + 1}, {i + 1:4d}] loss: {running_loss / 500:.3f}')\n",
        "            running_loss = 0.0\n",
        "    \n",
        "    current_accuracy = validator(testloader=testloader,net=net_best)\n",
        "    if current_accuracy>best_accuracy:\n",
        "        best_accuracy = current_accuracy\n",
        "        \n",
        "        torch.save(\n",
        "            {'epoch':epoch, \n",
        "             'model_state_dict': net_best.state_dict(), \n",
        "             'optimizer_state_dict': optimizer.state_dict()\n",
        "             }, \n",
        "             \n",
        "             '/content/drive/MyDrive/checkpoints4/'+'best_model.pth')\n",
        "    \n",
        "    #Save model as checkpoint\n",
        "    torch.save(\n",
        "        {'epoch':epoch, \n",
        "         'model_state_dict': net_best.state_dict(), \n",
        "         'optimizer_state_dict': optimizer.state_dict() \n",
        "         }, \n",
        "         '/content/drive/MyDrive/checkpoints4/'+'checkpoint.pth') \n",
        "\n",
        "\n",
        "\n",
        "print('Finished Training')"
      ]
    },
    {
      "cell_type": "markdown",
      "metadata": {
        "id": "qF8gTbXkh-E8"
      },
      "source": [
        "**Finally, we obtained a best test accuracy of 91% by freezing all except the last two layers using the concept of Transfer Learning.** \\\n",
        "In the question, we were asked to freeze the appropriate part of the neural network and train the remaining part; and hence we applied Transfer Learning in the above manner."
      ]
    },
    {
      "attachments": {},
      "cell_type": "markdown",
      "metadata": {},
      "source": [
        "### **Justification of the above results**\n",
        "1. Therefore, it can be inferred from the above that Transfer learning gives better results on freezing less layers of the neural network which is also guided by our intuition. \n",
        "2. It is observed that the results of transfer learning are worse when compared the entire neural network with the entire dataset. This can be justified because in the former case, only a few parameters are learned, whereas in the latter case a large number of parameters are learned.  \n",
        "3. Now let’s look at the reason why we get a difference in the test accuracies with and without transfer learning. We observe that the distributions of the augmented Bengali MNIST dataset and the original MNIST dataset are significantly away from each other. The following are the reasons for the same. In the original MNIST dataset we would have a black background and a white digit; whereas, in the augmented dataset we have grayscale images. Since all the connected images are not obtained from the same environment, binarizing the images gives weirder results, rather worse. Therefore, not binarizing them makes the distributions dissimilar to each other. \n",
        "4. On comparing the Bengali MNIST and the original MNIST datasets, we see that a 4 in the former is an 8 in the latter, and a 7 in the former is similar to a 9 in the later. Also, there are other digits which have similarities. Hence, we cannot expect Transfer Learning to provide a magnificently good test accuracy. \n"
      ]
    }
  ],
  "metadata": {
    "accelerator": "GPU",
    "colab": {
      "provenance": []
    },
    "gpuClass": "standard",
    "kernelspec": {
      "display_name": "Python 3",
      "name": "python3"
    },
    "language_info": {
      "name": "python"
    }
  },
  "nbformat": 4,
  "nbformat_minor": 0
}
